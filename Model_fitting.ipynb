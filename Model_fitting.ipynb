{
 "cells": [
  {
   "cell_type": "code",
   "execution_count": 1,
   "metadata": {},
   "outputs": [],
   "source": [
    "# Loading the necessary module\n",
    "import pandas as pd"
   ]
  },
  {
   "cell_type": "code",
   "execution_count": 2,
   "metadata": {},
   "outputs": [],
   "source": [
    "# Scaling the feature values and saving as a new dataset\n",
    "\n",
    "from sklearn.preprocessing import StandardScaler\n",
    "scaler = StandardScaler()\n",
    "\n",
    "df_list = [\"features.csv\"]\n",
    "\n",
    "for df_name in df_list:\n",
    "\n",
    "    df = pd.read_csv(df_name)\n",
    "    features_only_df = df.iloc[:,1:]\n",
    "\n",
    "    features_only_values_scaled = scaler.fit_transform(features_only_df)\n",
    "    new_columns_list = df.columns.tolist()[1:]\n",
    "    features_only_df_scaled = pd.DataFrame(data = features_only_values_scaled, columns = new_columns_list)\n",
    "\n",
    "    df_scaled = pd.concat([df.iloc[:,0],features_only_df_scaled],axis=1)\n",
    "    df_scaled.to_csv(f\"{df_name[:-4]}_scaled.csv\",index=False)"
   ]
  },
  {
   "cell_type": "code",
   "execution_count": 3,
   "metadata": {},
   "outputs": [
    {
     "data": {
      "text/html": [
       "<div>\n",
       "<style scoped>\n",
       "    .dataframe tbody tr th:only-of-type {\n",
       "        vertical-align: middle;\n",
       "    }\n",
       "\n",
       "    .dataframe tbody tr th {\n",
       "        vertical-align: top;\n",
       "    }\n",
       "\n",
       "    .dataframe thead th {\n",
       "        text-align: right;\n",
       "    }\n",
       "</style>\n",
       "<table border=\"1\" class=\"dataframe\">\n",
       "  <thead>\n",
       "    <tr style=\"text-align: right;\">\n",
       "      <th></th>\n",
       "      <th>datasets_used</th>\n",
       "      <th>0</th>\n",
       "      <th>1</th>\n",
       "    </tr>\n",
       "  </thead>\n",
       "  <tbody>\n",
       "    <tr>\n",
       "      <th>0</th>\n",
       "      <td>ds</td>\n",
       "      <td>350</td>\n",
       "      <td>963</td>\n",
       "    </tr>\n",
       "    <tr>\n",
       "      <th>1</th>\n",
       "      <td>ds_scaled</td>\n",
       "      <td>369</td>\n",
       "      <td>944</td>\n",
       "    </tr>\n",
       "  </tbody>\n",
       "</table>\n",
       "</div>"
      ],
      "text/plain": [
       "  datasets_used    0    1\n",
       "0            ds  350  963\n",
       "1     ds_scaled  369  944"
      ]
     },
     "execution_count": 3,
     "metadata": {},
     "output_type": "execute_result"
    }
   ],
   "source": [
    "# TRIAL Model Training\n",
    "\n",
    "from sklearn.cluster import KMeans\n",
    "\n",
    "df_names_list = \"features.csv features_scaled.csv \".split()\n",
    "\n",
    "dfs = []\n",
    "\n",
    "for i in df_names_list:\n",
    "\n",
    "    df = pd.read_csv(i)\n",
    "    features = df.iloc[:,1:]\n",
    "\n",
    "    kmeans = KMeans(init=\"random\", n_clusters=2, n_init=10, max_iter=300, random_state=42)\n",
    "    kmeans.fit(features)\n",
    "    dfs.append(pd.Series(kmeans.labels_))\n",
    "\n",
    "\n",
    "datasets_as_str = \"ds ds_scaled \".split()\n",
    "zero = [i.value_counts()[0] for i in dfs] \n",
    "one = [i.value_counts()[1] for i in dfs]\n",
    "\n",
    "compare_datasets = pd.DataFrame(data = {'datasets_used':datasets_as_str,'0': zero,'1': one})\n",
    "compare_datasets"
   ]
  }
 ],
 "metadata": {
  "kernelspec": {
   "display_name": "Python 3.10.4 64-bit",
   "language": "python",
   "name": "python3"
  },
  "language_info": {
   "codemirror_mode": {
    "name": "ipython",
    "version": 3
   },
   "file_extension": ".py",
   "mimetype": "text/x-python",
   "name": "python",
   "nbconvert_exporter": "python",
   "pygments_lexer": "ipython3",
   "version": "3.10.4"
  },
  "orig_nbformat": 4,
  "vscode": {
   "interpreter": {
    "hash": "63963b3f4c440940f0b94a3100916033a226cb4f45979123153792d60aa56d6a"
   }
  }
 },
 "nbformat": 4,
 "nbformat_minor": 2
}
